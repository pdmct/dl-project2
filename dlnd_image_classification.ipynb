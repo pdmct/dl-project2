{
 "cells": [
  {
   "cell_type": "markdown",
   "metadata": {
    "collapsed": true,
    "deletable": true,
    "editable": true
   },
   "source": [
    "# Image Classification\n",
    "In this project, you'll classify images from the [CIFAR-10 dataset](https://www.cs.toronto.edu/~kriz/cifar.html).  The dataset consists of airplanes, dogs, cats, and other objects. You'll preprocess the images, then train a convolutional neural network on all the samples. The images need to be normalized and the labels need to be one-hot encoded.  You'll get to apply what you learned and build a convolutional, max pooling, dropout, and fully connected layers.  At the end, you'll get to see your neural network's predictions on the sample images.\n",
    "## Get the Data\n",
    "Run the following cell to download the [CIFAR-10 dataset for python](https://www.cs.toronto.edu/~kriz/cifar-10-python.tar.gz)."
   ]
  },
  {
   "cell_type": "code",
   "execution_count": 20,
   "metadata": {
    "collapsed": false,
    "deletable": true,
    "editable": true
   },
   "outputs": [
    {
     "name": "stdout",
     "output_type": "stream",
     "text": [
      "All files found!\n"
     ]
    }
   ],
   "source": [
    "\"\"\"\n",
    "DON'T MODIFY ANYTHING IN THIS CELL THAT IS BELOW THIS LINE\n",
    "\"\"\"\n",
    "from urllib.request import urlretrieve\n",
    "from os.path import isfile, isdir\n",
    "from tqdm import tqdm\n",
    "import problem_unittests as tests\n",
    "import tarfile\n",
    "\n",
    "cifar10_dataset_folder_path = 'cifar-10-batches-py'\n",
    "\n",
    "class DLProgress(tqdm):\n",
    "    last_block = 0\n",
    "\n",
    "    def hook(self, block_num=1, block_size=1, total_size=None):\n",
    "        self.total = total_size\n",
    "        self.update((block_num - self.last_block) * block_size)\n",
    "        self.last_block = block_num\n",
    "\n",
    "if not isfile('cifar-10-python.tar.gz'):\n",
    "    with DLProgress(unit='B', unit_scale=True, miniters=1, desc='CIFAR-10 Dataset') as pbar:\n",
    "        urlretrieve(\n",
    "            'https://www.cs.toronto.edu/~kriz/cifar-10-python.tar.gz',\n",
    "            'cifar-10-python.tar.gz',\n",
    "            pbar.hook)\n",
    "\n",
    "if not isdir(cifar10_dataset_folder_path):\n",
    "    with tarfile.open('cifar-10-python.tar.gz') as tar:\n",
    "        tar.extractall()\n",
    "        tar.close()\n",
    "\n",
    "\n",
    "tests.test_folder_path(cifar10_dataset_folder_path)"
   ]
  },
  {
   "cell_type": "markdown",
   "metadata": {
    "deletable": true,
    "editable": true
   },
   "source": [
    "## Explore the Data\n",
    "The dataset is broken into batches to prevent your machine from running out of memory.  The CIFAR-10 dataset consists of 5 batches, named `data_batch_1`, `data_batch_2`, etc.. Each batch contains the labels and images that are one of the following:\n",
    "* airplane\n",
    "* automobile\n",
    "* bird\n",
    "* cat\n",
    "* deer\n",
    "* dog\n",
    "* frog\n",
    "* horse\n",
    "* ship\n",
    "* truck\n",
    "\n",
    "Understanding a dataset is part of making predictions on the data.  Play around with the code cell below by changing the `batch_id` and `sample_id`. The `batch_id` is the id for a batch (1-5). The `sample_id` is the id for a image and label pair in the batch.\n",
    "\n",
    "Ask yourself \"What are all possible labels?\", \"What is the range of values for the image data?\", \"Are the labels in order or random?\".  Answers to questions like these will help you preprocess the data and end up with better predictions."
   ]
  },
  {
   "cell_type": "code",
   "execution_count": 21,
   "metadata": {
    "collapsed": false,
    "deletable": true,
    "editable": true
   },
   "outputs": [
    {
     "name": "stdout",
     "output_type": "stream",
     "text": [
      "\n",
      "Stats of batch 1:\n",
      "Samples: 10000\n",
      "Label Counts: {0: 1005, 1: 974, 2: 1032, 3: 1016, 4: 999, 5: 937, 6: 1030, 7: 1001, 8: 1025, 9: 981}\n",
      "First 20 Labels: [6, 9, 9, 4, 1, 1, 2, 7, 8, 3, 4, 7, 7, 2, 9, 9, 9, 3, 2, 6]\n",
      "\n",
      "Example of Image 5:\n",
      "Image - Min Value: 0 Max Value: 252\n",
      "Image - Shape: (32, 32, 3)\n",
      "Label - Label Id: 1 Name: automobile\n"
     ]
    },
    {
     "data": {
      "image/png": "[encoded data removed]",
      "text/plain": [
       "<matplotlib.figure.Figure at 0x7fa3b57cae48>"
      ]
     },
     "metadata": {
      "image/png": {
       "height": 250,
       "width": 253
      }
     },
     "output_type": "display_data"
    }
   ],
   "source": [
    "%matplotlib inline\n",
    "%config InlineBackend.figure_format = 'retina'\n",
    "\n",
    "import helper\n",
    "import numpy as np\n",
    "\n",
    "# Explore the dataset\n",
    "batch_id = 1\n",
    "sample_id = 5\n",
    "helper.display_stats(cifar10_dataset_folder_path, batch_id, sample_id)"
   ]
  },
  {
   "cell_type": "markdown",
   "metadata": {
    "deletable": true,
    "editable": true
   },
   "source": [
    "## Implement Preprocess Functions\n",
    "### Normalize\n",
    "In the cell below, implement the `normalize` function to take in image data, `x`, and return it as a normalized Numpy array. The values should be in the range of 0 to 1, inclusive.  The return object should be the same shape as `x`."
   ]
  },
  {
   "cell_type": "code",
   "execution_count": 22,
   "metadata": {
    "collapsed": false,
    "deletable": true,
    "editable": true
   },
   "outputs": [
    {
     "name": "stdout",
     "output_type": "stream",
     "text": [
      "Tests Passed\n"
     ]
    }
   ],
   "source": [
    "def normalize(x):\n",
    "    \"\"\"\n",
    "    Normalize a list of sample image data in the range of 0 to 1\n",
    "    : x: List of image data.  The image shape is (32, 32, 3)\n",
    "    : return: Numpy array of normalize data\n",
    "    : min - 0\n",
    "    : max - 255\n",
    "    : a - 0\n",
    "    : b - 1\n",
    "    \"\"\"\n",
    "    return x / 255.\n",
    "\n",
    "\n",
    "\"\"\"\n",
    "DON'T MODIFY ANYTHING IN THIS CELL THAT IS BELOW THIS LINE\n",
    "\"\"\"\n",
    "tests.test_normalize(normalize)"
   ]
  },
  {
   "cell_type": "markdown",
   "metadata": {
    "deletable": true,
    "editable": true
   },
   "source": [
    "### One-hot encode\n",
    "Just like the previous code cell, you'll be implementing a function for preprocessing.  This time, you'll implement the `one_hot_encode` function. The input, `x`, are a list of labels.  Implement the function to return the list of labels as One-Hot encoded Numpy array.  The possible values for labels are 0 to 9. The one-hot encoding function should return the same encoding for each value between each call to `one_hot_encode`.  Make sure to save the map of encodings outside the function.\n",
    "\n",
    "Hint: Don't reinvent the wheel."
   ]
  },
  {
   "cell_type": "code",
   "execution_count": 23,
   "metadata": {
    "collapsed": false,
    "deletable": true,
    "editable": true
   },
   "outputs": [
    {
     "name": "stdout",
     "output_type": "stream",
     "text": [
      "Tests Passed\n"
     ]
    }
   ],
   "source": [
    "def genVec(x):\n",
    "    res = np.zeros(10)\n",
    "    res[x] = 1\n",
    "    return res\n",
    "\n",
    "def one_hot_encode(x):\n",
    "    \"\"\"\n",
    "    One hot encode a list of sample labels. Return a one-hot encoded vector for each label.\n",
    "    : x: List of sample Labels\n",
    "    : return: Numpy array of one-hot encoded labels\n",
    "    \"\"\"\n",
    "    return np.array([genVec(y) for y in x])\n",
    "\n",
    "\n",
    "\"\"\"\n",
    "DON'T MODIFY ANYTHING IN THIS CELL THAT IS BELOW THIS LINE\n",
    "\"\"\"\n",
    "tests.test_one_hot_encode(one_hot_encode)"
   ]
  },
  {
   "cell_type": "markdown",
   "metadata": {
    "deletable": true,
    "editable": true
   },
   "source": [
    "### Randomize Data\n",
    "As you saw from exploring the data above, the order of the samples are randomized.  It doesn't hurt to randomize it again, but you don't need to for this dataset."
   ]
  },
  {
   "cell_type": "markdown",
   "metadata": {
    "deletable": true,
    "editable": true
   },
   "source": [
    "## Preprocess all the data and save it\n",
    "Running the code cell below will preprocess all the CIFAR-10 data and save it to file. The code below also uses 10% of the training data for validation."
   ]
  },
  {
   "cell_type": "code",
   "execution_count": 24,
   "metadata": {
    "collapsed": false,
    "deletable": true,
    "editable": true
   },
   "outputs": [],
   "source": [
    "\"\"\"\n",
    "DON'T MODIFY ANYTHING IN THIS CELL\n",
    "\"\"\"\n",
    "# Preprocess Training, Validation, and Testing Data\n",
    "helper.preprocess_and_save_data(cifar10_dataset_folder_path, normalize, one_hot_encode)"
   ]
  },
  {
   "cell_type": "markdown",
   "metadata": {
    "deletable": true,
    "editable": true
   },
   "source": [
    "# Check Point\n",
    "This is your first checkpoint.  If you ever decide to come back to this notebook or have to restart the notebook, you can start from here.  The preprocessed data has been saved to disk."
   ]
  },
  {
   "cell_type": "code",
   "execution_count": 25,
   "metadata": {
    "collapsed": true,
    "deletable": true,
    "editable": true
   },
   "outputs": [],
   "source": [
    "\"\"\"\n",
    "DON'T MODIFY ANYTHING IN THIS CELL\n",
    "\"\"\"\n",
    "import pickle\n",
    "import problem_unittests as tests\n",
    "import helper\n",
    "\n",
    "# Load the Preprocessed Validation data\n",
    "valid_features, valid_labels = pickle.load(open('preprocess_validation.p', mode='rb'))"
   ]
  },
  {
   "cell_type": "markdown",
   "metadata": {
    "deletable": true,
    "editable": true
   },
   "source": [
    "## Build the network\n",
    "For the neural network, you'll build each layer into a function.  Most of the code you've seen has been outside of functions. To test your code more thoroughly, we require that you put each layer in a function.  This allows us to give you better feedback and test for simple mistakes using our unittests before you submit your project.\n",
    "\n",
    ">**Note:** If you're finding it hard to dedicate enough time for this course each week, we've provided a small shortcut to this part of the project. In the next couple of problems, you'll have the option to use classes from the [TensorFlow Layers](https://www.tensorflow.org/api_docs/python/tf/layers) or [TensorFlow Layers (contrib)](https://www.tensorflow.org/api_guides/python/contrib.layers) packages to build each layer, except the layers you build in the \"Convolutional and Max Pooling Layer\" section.  TF Layers is similar to Keras's and TFLearn's abstraction to layers, so it's easy to pickup.\n",
    "\n",
    ">However, if you would like to get the most out of this course, try to solve all the problems _without_ using anything from the TF Layers packages. You **can** still use classes from other packages that happen to have the same name as ones you find in TF Layers! For example, instead of using the TF Layers version of the `conv2d` class, [tf.layers.conv2d](https://www.tensorflow.org/api_docs/python/tf/layers/conv2d), you would want to use the TF Neural Network version of `conv2d`, [tf.nn.conv2d](https://www.tensorflow.org/api_docs/python/tf/nn/conv2d). \n",
    "\n",
    "Let's begin!\n",
    "\n",
    "### Input\n",
    "The neural network needs to read the image data, one-hot encoded labels, and dropout keep probability. Implement the following functions\n",
    "* Implement `neural_net_image_input`\n",
    " * Return a [TF Placeholder](https://www.tensorflow.org/api_docs/python/tf/placeholder)\n",
    " * Set the shape using `image_shape` with batch size set to `None`.\n",
    " * Name the TensorFlow placeholder \"x\" using the TensorFlow `name` parameter in the [TF Placeholder](https://www.tensorflow.org/api_docs/python/tf/placeholder).\n",
    "* Implement `neural_net_label_input`\n",
    " * Return a [TF Placeholder](https://www.tensorflow.org/api_docs/python/tf/placeholder)\n",
    " * Set the shape using `n_classes` with batch size set to `None`.\n",
    " * Name the TensorFlow placeholder \"y\" using the TensorFlow `name` parameter in the [TF Placeholder](https://www.tensorflow.org/api_docs/python/tf/placeholder).\n",
    "* Implement `neural_net_keep_prob_input`\n",
    " * Return a [TF Placeholder](https://www.tensorflow.org/api_docs/python/tf/placeholder) for dropout keep probability.\n",
    " * Name the TensorFlow placeholder \"keep_prob\" using the TensorFlow `name` parameter in the [TF Placeholder](https://www.tensorflow.org/api_docs/python/tf/placeholder).\n",
    "\n",
    "These names will be used at the end of the project to load your saved model.\n",
    "\n",
    "Note: `None` for shapes in TensorFlow allow for a dynamic size."
   ]
  },
  {
   "cell_type": "code",
   "execution_count": 26,
   "metadata": {
    "collapsed": false,
    "deletable": true,
    "editable": true
   },
   "outputs": [
    {
     "name": "stdout",
     "output_type": "stream",
     "text": [
      "Image Input Tests Passed.\n",
      "Label Input Tests Passed.\n",
      "Keep Prob Tests Passed.\n"
     ]
    }
   ],
   "source": [
    "import tensorflow as tf\n",
    "\n",
    "def neural_net_image_input(image_shape):\n",
    "    \"\"\"\n",
    "    Return a Tensor for a bach of image input\n",
    "    : image_shape: Shape of the images\n",
    "    : return: Tensor for image input.\n",
    "    \"\"\"\n",
    "    return tf.placeholder(tf.float32, shape=[None, *image_shape], name='x')\n",
    "\n",
    "\n",
    "def neural_net_label_input(n_classes):\n",
    "    \"\"\"\n",
    "    Return a Tensor for a batch of label input\n",
    "    : n_classes: Number of classes\n",
    "    : return: Tensor for label input.\n",
    "    \"\"\"\n",
    "    return tf.placeholder(tf.float32, shape=[None, n_classes], name='y')\n",
    "\n",
    "\n",
    "def neural_net_keep_prob_input():\n",
    "    \"\"\"\n",
    "    Return a Tensor for keep probability\n",
    "    : return: Tensor for keep probability.\n",
    "    \"\"\"\n",
    "    # TODO: Implement Function\n",
    "    return tf.placeholder(tf.float32, name='keep_prob')\n",
    "\n",
    "\n",
    "\"\"\"\n",
    "DON'T MODIFY ANYTHING IN THIS CELL THAT IS BELOW THIS LINE\n",
    "\"\"\"\n",
    "tf.reset_default_graph()\n",
    "tests.test_nn_image_inputs(neural_net_image_input)\n",
    "tests.test_nn_label_inputs(neural_net_label_input)\n",
    "tests.test_nn_keep_prob_inputs(neural_net_keep_prob_input)"
   ]
  },
  {
   "cell_type": "markdown",
   "metadata": {
    "deletable": true,
    "editable": true
   },
   "source": [
    "### Convolution and Max Pooling Layer\n",
    "Convolution layers have a lot of success with images. For this code cell, you should implement the function `conv2d_maxpool` to apply convolution then max pooling:\n",
    "* Create the weight and bias using `conv_ksize`, `conv_num_outputs` and the shape of `x_tensor`.\n",
    "* Apply a convolution to `x_tensor` using weight and `conv_strides`.\n",
    " * We recommend you use same padding, but you're welcome to use any padding.\n",
    "* Add bias\n",
    "* Add a nonlinear activation to the convolution.\n",
    "* Apply Max Pooling using `pool_ksize` and `pool_strides`.\n",
    " * We recommend you use same padding, but you're welcome to use any padding.\n",
    "\n",
    "**Note:** You **can't** use [TensorFlow Layers](https://www.tensorflow.org/api_docs/python/tf/layers) or [TensorFlow Layers (contrib)](https://www.tensorflow.org/api_guides/python/contrib.layers) for **this** layer, but you can still use TensorFlow's [Neural Network](https://www.tensorflow.org/api_docs/python/tf/nn) package. You may still use the shortcut option for all the **other** layers."
   ]
  },
  {
   "cell_type": "code",
   "execution_count": 27,
   "metadata": {
    "collapsed": false,
    "deletable": true,
    "editable": true
   },
   "outputs": [
    {
     "name": "stdout",
     "output_type": "stream",
     "text": [
      "Tests Passed\n"
     ]
    }
   ],
   "source": [
    "def conv2d_maxpool(x_tensor, conv_num_outputs, conv_ksize, conv_strides, pool_ksize, pool_strides):\n",
    "    \"\"\"\n",
    "    Apply convolution then max pooling to x_tensor\n",
    "    :param x_tensor: TensorFlow Tensor\n",
    "    :param conv_num_outputs: Number of outputs for the convolutional layer\n",
    "    :param conv_ksize: kernal size 2-D Tuple for the convolutional layer\n",
    "    :param conv_strides: Stride 2-D Tuple for convolution\n",
    "    :param pool_ksize: kernal size 2-D Tuple for pool\n",
    "    :param pool_strides: Stride 2-D Tuple for pool\n",
    "    : return: A tensor that represents convolution and max pooling of x_tensor\n",
    "    \"\"\"\n",
    "    # apply convolution\n",
    "    x_tensor_depth = x_tensor.get_shape().as_list()[3]\n",
    "    \n",
    "    weights = tf.Variable(tf.truncated_normal([*conv_ksize, x_tensor_depth, conv_num_outputs], mean=0, stddev=0.1))\n",
    "    bias = tf.Variable(tf.zeros(conv_num_outputs))\n",
    "    \n",
    "    conv_layer = tf.nn.conv2d(x_tensor, weights, strides=[1,*conv_strides,1], padding='SAME')\n",
    "    \n",
    "    #add biased\n",
    "    conv_layer = tf.nn.bias_add(conv_layer, bias)\n",
    "    \n",
    "    # Apply activation function\n",
    "    conv_layer = tf.nn.relu(conv_layer)\n",
    "    \n",
    "    # and max pool to outputs\n",
    "    conv_layer = tf.nn.max_pool(\n",
    "        conv_layer,\n",
    "        ksize=[1, *pool_ksize, 1],\n",
    "        strides=[1, *pool_strides, 1],\n",
    "        padding='SAME')\n",
    "    return conv_layer \n",
    "\n",
    "\n",
    "\"\"\"\n",
    "DON'T MODIFY ANYTHING IN THIS CELL THAT IS BELOW THIS LINE\n",
    "\"\"\"\n",
    "tests.test_con_pool(conv2d_maxpool)"
   ]
  },
  {
   "cell_type": "markdown",
   "metadata": {
    "deletable": true,
    "editable": true
   },
   "source": [
    "### Flatten Layer\n",
    "Implement the `flatten` function to change the dimension of `x_tensor` from a 4-D tensor to a 2-D tensor.  The output should be the shape (*Batch Size*, *Flattened Image Size*). Shortcut option: you can use classes from the [TensorFlow Layers](https://www.tensorflow.org/api_docs/python/tf/layers) or [TensorFlow Layers (contrib)](https://www.tensorflow.org/api_guides/python/contrib.layers) packages for this layer. For more of a challenge, only use other TensorFlow packages."
   ]
  },
  {
   "cell_type": "code",
   "execution_count": 28,
   "metadata": {
    "collapsed": false,
    "deletable": true,
    "editable": true
   },
   "outputs": [
    {
     "name": "stdout",
     "output_type": "stream",
     "text": [
      "Tests Passed\n"
     ]
    }
   ],
   "source": [
    "def flatten(x_tensor):\n",
    "    \"\"\"\n",
    "    Flatten x_tensor to (Batch Size, Flattened Image Size)\n",
    "    : x_tensor: A tensor of size (Batch Size, ...), where ... are the image dimensions.\n",
    "    : return: A tensor of size (Batch Size, Flattened Image Size).\n",
    "    \"\"\"\n",
    "    x_tensor = tf.reshape(x_tensor, [-1, np.prod(x_tensor.get_shape()[1:].as_list()) ])\n",
    "    return x_tensor\n",
    "\n",
    "\"\"\"\n",
    "DON'T MODIFY ANYTHING IN THIS CELL THAT IS BELOW THIS LINE\n",
    "\"\"\"\n",
    "tests.test_flatten(flatten)"
   ]
  },
  {
   "cell_type": "markdown",
   "metadata": {
    "deletable": true,
    "editable": true
   },
   "source": [
    "### Fully-Connected Layer\n",
    "Implement the `fully_conn` function to apply a fully connected layer to `x_tensor` with the shape (*Batch Size*, *num_outputs*). Shortcut option: you can use classes from the [TensorFlow Layers](https://www.tensorflow.org/api_docs/python/tf/layers) or [TensorFlow Layers (contrib)](https://www.tensorflow.org/api_guides/python/contrib.layers) packages for this layer. For more of a challenge, only use other TensorFlow packages."
   ]
  },
  {
   "cell_type": "code",
   "execution_count": 29,
   "metadata": {
    "collapsed": false,
    "deletable": true,
    "editable": true
   },
   "outputs": [
    {
     "name": "stdout",
     "output_type": "stream",
     "text": [
      "Tests Passed\n"
     ]
    }
   ],
   "source": [
    "def fully_conn(x_tensor, num_outputs):\n",
    "    \"\"\"\n",
    "    Apply a fully connected layer to x_tensor using weight and bias\n",
    "    : x_tensor: A 2-D tensor where the first dimension is batch size.\n",
    "    : num_outputs: The number of output that the new tensor should be.\n",
    "    : return: A 2-D tensor where the second dimension is num_outputs.\n",
    "    \"\"\"\n",
    "    weights = tf.Variable(tf.truncated_normal((int(x_tensor.get_shape()[1]),num_outputs), mean=0, stddev=0.1))\n",
    "    bias = tf.Variable(tf.zeros(num_outputs))\n",
    "    \n",
    "    fc_layer = tf.add(tf.matmul(x_tensor, weights),bias)\n",
    " \n",
    "    # apply RELU activation\n",
    "    fc_layer = tf.nn.relu(fc_layer)\n",
    "    \n",
    "    return fc_layer\n",
    "\n",
    "\n",
    "\"\"\"\n",
    "DON'T MODIFY ANYTHING IN THIS CELL THAT IS BELOW THIS LINE\n",
    "\"\"\"\n",
    "tests.test_fully_conn(fully_conn)"
   ]
  },
  {
   "cell_type": "markdown",
   "metadata": {
    "deletable": true,
    "editable": true
   },
   "source": [
    "### Output Layer\n",
    "Implement the `output` function to apply a fully connected layer to `x_tensor` with the shape (*Batch Size*, *num_outputs*). Shortcut option: you can use classes from the [TensorFlow Layers](https://www.tensorflow.org/api_docs/python/tf/layers) or [TensorFlow Layers (contrib)](https://www.tensorflow.org/api_guides/python/contrib.layers) packages for this layer. For more of a challenge, only use other TensorFlow packages.\n",
    "\n",
    "**Note:** Activation, softmax, or cross entropy should **not** be applied to this."
   ]
  },
  {
   "cell_type": "code",
   "execution_count": 30,
   "metadata": {
    "collapsed": false,
    "deletable": true,
    "editable": true
   },
   "outputs": [
    {
     "name": "stdout",
     "output_type": "stream",
     "text": [
      "Tests Passed\n"
     ]
    }
   ],
   "source": [
    "def output(x_tensor, num_outputs):\n",
    "    \"\"\"\n",
    "    Apply a output layer to x_tensor using weight and bias\n",
    "    : x_tensor: A 2-D tensor where the first dimension is batch size.\n",
    "    : num_outputs: The number of output that the new tensor should be.\n",
    "    : return: A 2-D tensor where the second dimension is num_outputs.\n",
    "    \"\"\"\n",
    "    weights = tf.Variable(tf.truncated_normal((int(x_tensor.get_shape()[1]),num_outputs)))\n",
    "    bias = tf.Variable(tf.zeros(num_outputs))\n",
    "    \n",
    "    fc_layer = tf.add(tf.matmul(x_tensor, weights),bias)\n",
    "    return fc_layer\n",
    "\n",
    "\n",
    "\"\"\"\n",
    "DON'T MODIFY ANYTHING IN THIS CELL THAT IS BELOW THIS LINE\n",
    "\"\"\"\n",
    "tests.test_output(output)"
   ]
  },
  {
   "cell_type": "markdown",
   "metadata": {
    "deletable": true,
    "editable": true
   },
   "source": [
    "### Create Convolutional Model\n",
    "Implement the function `conv_net` to create a convolutional neural network model. The function takes in a batch of images, `x`, and outputs logits.  Use the layers you created above to create this model:\n",
    "\n",
    "* Apply 1, 2, or 3 Convolution and Max Pool layers\n",
    "* Apply a Flatten Layer\n",
    "* Apply 1, 2, or 3 Fully Connected Layers\n",
    "* Apply an Output Layer\n",
    "* Return the output\n",
    "* Apply [TensorFlow's Dropout](https://www.tensorflow.org/api_docs/python/tf/nn/dropout) to one or more layers in the model using `keep_prob`. "
   ]
  },
  {
   "cell_type": "code",
   "execution_count": 31,
   "metadata": {
    "collapsed": false,
    "deletable": true,
    "editable": true
   },
   "outputs": [
    {
     "name": "stdout",
     "output_type": "stream",
     "text": [
      "Neural Network Built!\n"
     ]
    }
   ],
   "source": [
    "def conv_net(x, keep_prob):\n",
    "    \"\"\"\n",
    "    Create a convolutional neural network model\n",
    "    : x: Placeholder tensor that holds image data.\n",
    "    : keep_prob: Placeholder tensor that hold dropout keep probability.\n",
    "    : return: Tensor that represents logits\n",
    "    \"\"\"\n",
    "    # TODO: Apply 1, 2, or 3 Convolution and Max Pool layers\n",
    "    #    Play around with different number of outputs, kernel size and stride\n",
    "    # Function Definition from Above:\n",
    "    #    conv2d_maxpool(x_tensor, conv_num_outputs, conv_ksize, conv_strides, pool_ksize, pool_strides)\n",
    "    \n",
    "    net = conv2d_maxpool(x, 60, (4,4),(1,1),(2,2),(2,2))\n",
    "    net = conv2d_maxpool(net, 80, (2,2),(1,1),(2,2),(2,2))\n",
    "    net = conv2d_maxpool(net, 120, (1,1),(1,1),(2,2),(2,2))\n",
    "    \n",
    "    # TODO: Apply a Flatten Layer\n",
    "    # Function Definition from Above:\n",
    "    #   flatten(x_tensor)\n",
    "    net = flatten(net)\n",
    "\n",
    "    # TODO: Apply 1, 2, or 3 Fully Connected Layers\n",
    "    #    Play around with different number of outputs\n",
    "    # Function Definition from Above:\n",
    "    #   fully_conn(x_tensor, num_outputs)\n",
    "    net = fully_conn(net, 100)\n",
    "    net = tf.nn.dropout(net, keep_prob)\n",
    "    net = fully_conn(net, 40)\n",
    "    net = tf.nn.dropout(net, keep_prob)\n",
    "\n",
    "    \n",
    "    # TODO: Apply an Output Layer\n",
    "    #    Set this to the number of classes\n",
    "    # Function Definition from Above:\n",
    "    #   output(x_tensor, num_outputs)\n",
    "    logits = output(net, 10)\n",
    "    \n",
    "    # TODO: return output\n",
    "    return logits\n",
    "\n",
    "\n",
    "\"\"\"\n",
    "DON'T MODIFY ANYTHING IN THIS CELL THAT IS BELOW THIS LINE\n",
    "\"\"\"\n",
    "\n",
    "##############################\n",
    "## Build the Neural Network ##\n",
    "##############################\n",
    "\n",
    "# Remove previous weights, bias, inputs, etc..\n",
    "tf.reset_default_graph()\n",
    "\n",
    "# Inputs\n",
    "x = neural_net_image_input((32, 32, 3))\n",
    "y = neural_net_label_input(10)\n",
    "keep_prob = neural_net_keep_prob_input()\n",
    "\n",
    "# Model\n",
    "logits = conv_net(x, keep_prob)\n",
    "\n",
    "# Name logits Tensor, so that is can be loaded from disk after training\n",
    "logits = tf.identity(logits, name='logits')\n",
    "\n",
    "# Loss and Optimizer\n",
    "cost = tf.reduce_mean(tf.nn.softmax_cross_entropy_with_logits(logits=logits, labels=y))\n",
    "optimizer = tf.train.AdamOptimizer().minimize(cost)\n",
    "\n",
    "# Accuracy\n",
    "correct_pred = tf.equal(tf.argmax(logits, 1), tf.argmax(y, 1))\n",
    "accuracy = tf.reduce_mean(tf.cast(correct_pred, tf.float32), name='accuracy')\n",
    "\n",
    "tests.test_conv_net(conv_net)"
   ]
  },
  {
   "cell_type": "markdown",
   "metadata": {
    "deletable": true,
    "editable": true
   },
   "source": [
    "## Train the Neural Network\n",
    "### Single Optimization\n",
    "Implement the function `train_neural_network` to do a single optimization.  The optimization should use `optimizer` to optimize in `session` with a `feed_dict` of the following:\n",
    "* `x` for image input\n",
    "* `y` for labels\n",
    "* `keep_prob` for keep probability for dropout\n",
    "\n",
    "This function will be called for each batch, so `tf.global_variables_initializer()` has already been called.\n",
    "\n",
    "Note: Nothing needs to be returned. This function is only optimizing the neural network."
   ]
  },
  {
   "cell_type": "code",
   "execution_count": 32,
   "metadata": {
    "collapsed": false,
    "deletable": true,
    "editable": true
   },
   "outputs": [
    {
     "name": "stdout",
     "output_type": "stream",
     "text": [
      "Tests Passed\n"
     ]
    }
   ],
   "source": [
    "def train_neural_network(session, optimizer, keep_probability, feature_batch, label_batch):\n",
    "    \"\"\"\n",
    "    Optimize the session on a batch of images and labels\n",
    "    : session: Current TensorFlow session\n",
    "    : optimizer: TensorFlow optimizer function\n",
    "    : keep_probability: keep probability\n",
    "    : feature_batch: Batch of Numpy image data\n",
    "    : label_batch: Batch of Numpy label data\n",
    "    \"\"\"\n",
    "    session.run(optimizer, feed_dict = {x:feature_batch, y:label_batch, keep_prob:keep_probability})\n",
    "\n",
    "\n",
    "\"\"\"\n",
    "DON'T MODIFY ANYTHING IN THIS CELL THAT IS BELOW THIS LINE\n",
    "\"\"\"\n",
    "tests.test_train_nn(train_neural_network)"
   ]
  },
  {
   "cell_type": "markdown",
   "metadata": {
    "deletable": true,
    "editable": true
   },
   "source": [
    "### Show Stats\n",
    "Implement the function `print_stats` to print loss and validation accuracy.  Use the global variables `valid_features` and `valid_labels` to calculate validation accuracy.  Use a keep probability of `1.0` to calculate the loss and validation accuracy."
   ]
  },
  {
   "cell_type": "code",
   "execution_count": 33,
   "metadata": {
    "collapsed": false,
    "deletable": true,
    "editable": true
   },
   "outputs": [],
   "source": [
    "def print_stats(session, feature_batch, label_batch, cost, accuracy):\n",
    "    \"\"\"\n",
    "    Print information about loss and validation accuracy\n",
    "    : session: Current TensorFlow session\n",
    "    : feature_batch: Batch of Numpy image data\n",
    "    : label_batch: Batch of Numpy label data\n",
    "    : cost: TensorFlow cost function\n",
    "    : accuracy: TensorFlow accuracy function\n",
    "    \"\"\"\n",
    "    # TODO: Implement Function\n",
    "    \n",
    "    print('Cost fn : {0}\\tAccuracy: {1}'.format((session.run(cost, feed_dict = {x:feature_batch, y:label_batch,keep_prob:1.0})),\n",
    "          session.run(accuracy, feed_dict = {x:valid_features, y:valid_labels,keep_prob:1.0})))"
   ]
  },
  {
   "cell_type": "markdown",
   "metadata": {
    "deletable": true,
    "editable": true
   },
   "source": [
    "### Hyperparameters\n",
    "Tune the following parameters:\n",
    "* Set `epochs` to the number of iterations until the network stops learning or start overfitting\n",
    "* Set `batch_size` to the highest number that your machine has memory for.  Most people set them to common sizes of memory:\n",
    " * 64\n",
    " * 128\n",
    " * 256\n",
    " * ...\n",
    "* Set `keep_probability` to the probability of keeping a node using dropout"
   ]
  },
  {
   "cell_type": "code",
   "execution_count": 34,
   "metadata": {
    "collapsed": true,
    "deletable": true,
    "editable": true
   },
   "outputs": [],
   "source": [
    "# TODO: Tune Parameters\n",
    "epochs = 20\n",
    "batch_size = 256\n",
    "keep_probability = 0.75"
   ]
  },
  {
   "cell_type": "markdown",
   "metadata": {
    "deletable": true,
    "editable": true
   },
   "source": [
    "### Train on a Single CIFAR-10 Batch\n",
    "Instead of training the neural network on all the CIFAR-10 batches of data, let's use a single batch. This should save time while you iterate on the model to get a better accuracy.  Once the final validation accuracy is 50% or greater, run the model on all the data in the next section."
   ]
  },
  {
   "cell_type": "code",
   "execution_count": 35,
   "metadata": {
    "collapsed": false,
    "deletable": true,
    "editable": true
   },
   "outputs": [
    {
     "name": "stdout",
     "output_type": "stream",
     "text": [
      "Checking the Training on a Single Batch...\n",
      "Epoch  1, CIFAR-10 Batch 1:  Cost fn : 2.2286598682403564\tAccuracy: 0.18459999561309814\n",
      "Epoch  2, CIFAR-10 Batch 1:  Cost fn : 2.138943910598755\tAccuracy: 0.28139999508857727\n",
      "Epoch  3, CIFAR-10 Batch 1:  Cost fn : 1.9509825706481934\tAccuracy: 0.339199960231781\n",
      "Epoch  4, CIFAR-10 Batch 1:  Cost fn : 1.8174314498901367\tAccuracy: 0.3739999830722809\n",
      "Epoch  5, CIFAR-10 Batch 1:  Cost fn : 1.74326491355896\tAccuracy: 0.4127999544143677\n",
      "Epoch  6, CIFAR-10 Batch 1:  Cost fn : 1.5841057300567627\tAccuracy: 0.43879997730255127\n",
      "Epoch  7, CIFAR-10 Batch 1:  Cost fn : 1.4617260694503784\tAccuracy: 0.4487999975681305\n",
      "Epoch  8, CIFAR-10 Batch 1:  Cost fn : 1.3679122924804688\tAccuracy: 0.4577999711036682\n",
      "Epoch  9, CIFAR-10 Batch 1:  Cost fn : 1.2934023141860962\tAccuracy: 0.4917999505996704\n",
      "Epoch 10, CIFAR-10 Batch 1:  Cost fn : 1.19699227809906\tAccuracy: 0.48959997296333313\n",
      "Epoch 11, CIFAR-10 Batch 1:  Cost fn : 1.1268619298934937\tAccuracy: 0.5119999647140503\n",
      "Epoch 12, CIFAR-10 Batch 1:  Cost fn : 1.017083764076233\tAccuracy: 0.5155999064445496\n",
      "Epoch 13, CIFAR-10 Batch 1:  Cost fn : 0.991554319858551\tAccuracy: 0.5215999484062195\n",
      "Epoch 14, CIFAR-10 Batch 1:  Cost fn : 0.9253594875335693\tAccuracy: 0.5371999144554138\n",
      "Epoch 15, CIFAR-10 Batch 1:  Cost fn : 0.8339983224868774\tAccuracy: 0.5491999387741089\n",
      "Epoch 16, CIFAR-10 Batch 1:  Cost fn : 0.8000863790512085\tAccuracy: 0.5609999299049377\n",
      "Epoch 17, CIFAR-10 Batch 1:  Cost fn : 0.736795961856842\tAccuracy: 0.5607999563217163\n",
      "Epoch 18, CIFAR-10 Batch 1:  Cost fn : 0.6698753833770752\tAccuracy: 0.560999870300293\n",
      "Epoch 19, CIFAR-10 Batch 1:  Cost fn : 0.6214213967323303\tAccuracy: 0.5727999210357666\n",
      "Epoch 20, CIFAR-10 Batch 1:  Cost fn : 0.5668986439704895\tAccuracy: 0.5629999041557312\n"
     ]
    }
   ],
   "source": [
    "\"\"\"\n",
    "DON'T MODIFY ANYTHING IN THIS CELL\n",
    "\"\"\"\n",
    "print('Checking the Training on a Single Batch...')\n",
    "with tf.Session() as sess:\n",
    "    # Initializing the variables\n",
    "    sess.run(tf.global_variables_initializer())\n",
    "    \n",
    "    # Training cycle\n",
    "    for epoch in range(epochs):\n",
    "        batch_i = 1\n",
    "        for batch_features, batch_labels in helper.load_preprocess_training_batch(batch_i, batch_size):\n",
    "            train_neural_network(sess, optimizer, keep_probability, batch_features, batch_labels)\n",
    "        print('Epoch {:>2}, CIFAR-10 Batch {}:  '.format(epoch + 1, batch_i), end='')\n",
    "        print_stats(sess, batch_features, batch_labels, cost, accuracy)"
   ]
  },
  {
   "cell_type": "markdown",
   "metadata": {
    "deletable": true,
    "editable": true
   },
   "source": [
    "### Fully Train the Model\n",
    "Now that you got a good accuracy with a single CIFAR-10 batch, try it with all five batches."
   ]
  },
  {
   "cell_type": "code",
   "execution_count": 36,
   "metadata": {
    "collapsed": false,
    "deletable": true,
    "editable": true
   },
   "outputs": [
    {
     "name": "stdout",
     "output_type": "stream",
     "text": [
      "Training...\n",
      "Epoch  1, CIFAR-10 Batch 1:  Cost fn : 2.2083640098571777\tAccuracy: 0.1876000016927719\n",
      "Epoch  1, CIFAR-10 Batch 2:  Cost fn : 1.8549392223358154\tAccuracy: 0.31259995698928833\n",
      "Epoch  1, CIFAR-10 Batch 3:  Cost fn : 1.645507574081421\tAccuracy: 0.3628000020980835\n",
      "Epoch  1, CIFAR-10 Batch 4:  Cost fn : 1.6484715938568115\tAccuracy: 0.39239996671676636\n",
      "Epoch  1, CIFAR-10 Batch 5:  Cost fn : 1.5882278680801392\tAccuracy: 0.4123999774456024\n",
      "Epoch  2, CIFAR-10 Batch 1:  Cost fn : 1.67531156539917\tAccuracy: 0.4349999725818634\n",
      "Epoch  2, CIFAR-10 Batch 2:  Cost fn : 1.576333999633789\tAccuracy: 0.45260000228881836\n",
      "Epoch  2, CIFAR-10 Batch 3:  Cost fn : 1.3854026794433594\tAccuracy: 0.45899999141693115\n",
      "Epoch  2, CIFAR-10 Batch 4:  Cost fn : 1.3725337982177734\tAccuracy: 0.48239994049072266\n",
      "Epoch  2, CIFAR-10 Batch 5:  Cost fn : 1.3089367151260376\tAccuracy: 0.5039999485015869\n",
      "Epoch  3, CIFAR-10 Batch 1:  Cost fn : 1.4745838642120361\tAccuracy: 0.5109999179840088\n",
      "Epoch  3, CIFAR-10 Batch 2:  Cost fn : 1.269663691520691\tAccuracy: 0.5309998989105225\n",
      "Epoch  3, CIFAR-10 Batch 3:  Cost fn : 1.0575515031814575\tAccuracy: 0.5217999815940857\n",
      "Epoch  3, CIFAR-10 Batch 4:  Cost fn : 1.1958340406417847\tAccuracy: 0.5601999163627625\n",
      "Epoch  3, CIFAR-10 Batch 5:  Cost fn : 1.1293662786483765\tAccuracy: 0.5495999455451965\n",
      "Epoch  4, CIFAR-10 Batch 1:  Cost fn : 1.2671791315078735\tAccuracy: 0.5657998919487\n",
      "Epoch  4, CIFAR-10 Batch 2:  Cost fn : 1.122929334640503\tAccuracy: 0.562999963760376\n",
      "Epoch  4, CIFAR-10 Batch 3:  Cost fn : 0.8347334861755371\tAccuracy: 0.5819998979568481\n",
      "Epoch  4, CIFAR-10 Batch 4:  Cost fn : 0.9905269145965576\tAccuracy: 0.5703998804092407\n",
      "Epoch  4, CIFAR-10 Batch 5:  Cost fn : 0.9354238510131836\tAccuracy: 0.5921999216079712\n",
      "Epoch  5, CIFAR-10 Batch 1:  Cost fn : 1.1038546562194824\tAccuracy: 0.5867999792098999\n",
      "Epoch  5, CIFAR-10 Batch 2:  Cost fn : 0.9554239511489868\tAccuracy: 0.5885999202728271\n",
      "Epoch  5, CIFAR-10 Batch 3:  Cost fn : 0.84649658203125\tAccuracy: 0.6023998856544495\n",
      "Epoch  5, CIFAR-10 Batch 4:  Cost fn : 0.792690634727478\tAccuracy: 0.6057999134063721\n",
      "Epoch  5, CIFAR-10 Batch 5:  Cost fn : 0.7786917686462402\tAccuracy: 0.6063998937606812\n",
      "Epoch  6, CIFAR-10 Batch 1:  Cost fn : 1.0886162519454956\tAccuracy: 0.6255998611450195\n",
      "Epoch  6, CIFAR-10 Batch 2:  Cost fn : 0.8453096747398376\tAccuracy: 0.6093999147415161\n",
      "Epoch  6, CIFAR-10 Batch 3:  Cost fn : 0.6570329070091248\tAccuracy: 0.6293998956680298\n",
      "Epoch  6, CIFAR-10 Batch 4:  Cost fn : 0.6914643049240112\tAccuracy: 0.6311998963356018\n",
      "Epoch  6, CIFAR-10 Batch 5:  Cost fn : 0.6444222927093506\tAccuracy: 0.6441998481750488\n",
      "Epoch  7, CIFAR-10 Batch 1:  Cost fn : 0.9203589558601379\tAccuracy: 0.6283999085426331\n",
      "Epoch  7, CIFAR-10 Batch 2:  Cost fn : 0.6689838171005249\tAccuracy: 0.6337999105453491\n",
      "Epoch  7, CIFAR-10 Batch 3:  Cost fn : 0.6113244891166687\tAccuracy: 0.6449999213218689\n",
      "Epoch  7, CIFAR-10 Batch 4:  Cost fn : 0.6003502607345581\tAccuracy: 0.6459998488426208\n",
      "Epoch  7, CIFAR-10 Batch 5:  Cost fn : 0.5743303298950195\tAccuracy: 0.6497998237609863\n",
      "Epoch  8, CIFAR-10 Batch 1:  Cost fn : 0.8185834288597107\tAccuracy: 0.6617999076843262\n",
      "Epoch  8, CIFAR-10 Batch 2:  Cost fn : 0.6151643991470337\tAccuracy: 0.6531999111175537\n",
      "Epoch  8, CIFAR-10 Batch 3:  Cost fn : 0.5390076637268066\tAccuracy: 0.6573998928070068\n",
      "Epoch  8, CIFAR-10 Batch 4:  Cost fn : 0.5637798309326172\tAccuracy: 0.6537998914718628\n",
      "Epoch  8, CIFAR-10 Batch 5:  Cost fn : 0.5920639038085938\tAccuracy: 0.6525998711585999\n",
      "Epoch  9, CIFAR-10 Batch 1:  Cost fn : 0.6862907409667969\tAccuracy: 0.6531998515129089\n",
      "Epoch  9, CIFAR-10 Batch 2:  Cost fn : 0.49940329790115356\tAccuracy: 0.6649998426437378\n",
      "Epoch  9, CIFAR-10 Batch 3:  Cost fn : 0.450196772813797\tAccuracy: 0.6679999232292175\n",
      "Epoch  9, CIFAR-10 Batch 4:  Cost fn : 0.5028089880943298\tAccuracy: 0.6665998697280884\n",
      "Epoch  9, CIFAR-10 Batch 5:  Cost fn : 0.4704839587211609\tAccuracy: 0.6775998473167419\n",
      "Epoch 10, CIFAR-10 Batch 1:  Cost fn : 0.5641541481018066\tAccuracy: 0.6609998941421509\n",
      "Epoch 10, CIFAR-10 Batch 2:  Cost fn : 0.45986759662628174\tAccuracy: 0.679399847984314\n",
      "Epoch 10, CIFAR-10 Batch 3:  Cost fn : 0.3637917637825012\tAccuracy: 0.6819998621940613\n",
      "Epoch 10, CIFAR-10 Batch 4:  Cost fn : 0.4584325850009918\tAccuracy: 0.6645998954772949\n",
      "Epoch 10, CIFAR-10 Batch 5:  Cost fn : 0.4417734146118164\tAccuracy: 0.665199875831604\n",
      "Epoch 11, CIFAR-10 Batch 1:  Cost fn : 0.5374191999435425\tAccuracy: 0.6743998527526855\n",
      "Epoch 11, CIFAR-10 Batch 2:  Cost fn : 0.4407852292060852\tAccuracy: 0.6795998811721802\n",
      "Epoch 11, CIFAR-10 Batch 3:  Cost fn : 0.3702206015586853\tAccuracy: 0.6569998860359192\n",
      "Epoch 11, CIFAR-10 Batch 4:  Cost fn : 0.3919456899166107\tAccuracy: 0.6763998866081238\n",
      "Epoch 11, CIFAR-10 Batch 5:  Cost fn : 0.40794646739959717\tAccuracy: 0.6651999354362488\n",
      "Epoch 12, CIFAR-10 Batch 1:  Cost fn : 0.4667070806026459\tAccuracy: 0.6643998622894287\n",
      "Epoch 12, CIFAR-10 Batch 2:  Cost fn : 0.4040027856826782\tAccuracy: 0.68479984998703\n",
      "Epoch 12, CIFAR-10 Batch 3:  Cost fn : 0.27891990542411804\tAccuracy: 0.6893998384475708\n",
      "Epoch 12, CIFAR-10 Batch 4:  Cost fn : 0.3469146192073822\tAccuracy: 0.6749998927116394\n",
      "Epoch 12, CIFAR-10 Batch 5:  Cost fn : 0.3222779929637909\tAccuracy: 0.6989998817443848\n",
      "Epoch 13, CIFAR-10 Batch 1:  Cost fn : 0.4348020851612091\tAccuracy: 0.6939998269081116\n",
      "Epoch 13, CIFAR-10 Batch 2:  Cost fn : 0.3925241529941559\tAccuracy: 0.6995999217033386\n",
      "Epoch 13, CIFAR-10 Batch 3:  Cost fn : 0.29167822003364563\tAccuracy: 0.6799998879432678\n",
      "Epoch 13, CIFAR-10 Batch 4:  Cost fn : 0.3066650331020355\tAccuracy: 0.6885998845100403\n",
      "Epoch 13, CIFAR-10 Batch 5:  Cost fn : 0.3085019290447235\tAccuracy: 0.686599850654602\n",
      "Epoch 14, CIFAR-10 Batch 1:  Cost fn : 0.37825003266334534\tAccuracy: 0.6997998356819153\n",
      "Epoch 14, CIFAR-10 Batch 2:  Cost fn : 0.3344191610813141\tAccuracy: 0.6887999773025513\n",
      "Epoch 14, CIFAR-10 Batch 3:  Cost fn : 0.25637200474739075\tAccuracy: 0.7005999088287354\n",
      "Epoch 14, CIFAR-10 Batch 4:  Cost fn : 0.24736694991588593\tAccuracy: 0.7025998830795288\n",
      "Epoch 14, CIFAR-10 Batch 5:  Cost fn : 0.26541081070899963\tAccuracy: 0.7019999027252197\n",
      "Epoch 15, CIFAR-10 Batch 1:  Cost fn : 0.3521580398082733\tAccuracy: 0.6937998533248901\n",
      "Epoch 15, CIFAR-10 Batch 2:  Cost fn : 0.3265351355075836\tAccuracy: 0.7017998099327087\n",
      "Epoch 15, CIFAR-10 Batch 3:  Cost fn : 0.24432373046875\tAccuracy: 0.6819998621940613\n",
      "Epoch 15, CIFAR-10 Batch 4:  Cost fn : 0.2742476165294647\tAccuracy: 0.6983999013900757\n",
      "Epoch 15, CIFAR-10 Batch 5:  Cost fn : 0.23195812106132507\tAccuracy: 0.700799822807312\n",
      "Epoch 16, CIFAR-10 Batch 1:  Cost fn : 0.27373206615448\tAccuracy: 0.7031998634338379\n",
      "Epoch 16, CIFAR-10 Batch 2:  Cost fn : 0.2983842194080353\tAccuracy: 0.704399824142456\n",
      "Epoch 16, CIFAR-10 Batch 3:  Cost fn : 0.21590188145637512\tAccuracy: 0.6851998567581177\n",
      "Epoch 16, CIFAR-10 Batch 4:  Cost fn : 0.23159608244895935\tAccuracy: 0.6971998810768127\n",
      "Epoch 16, CIFAR-10 Batch 5:  Cost fn : 0.18616808950901031\tAccuracy: 0.7041998505592346\n",
      "Epoch 17, CIFAR-10 Batch 1:  Cost fn : 0.26280662417411804\tAccuracy: 0.708599865436554\n",
      "Epoch 17, CIFAR-10 Batch 2:  Cost fn : 0.2598107159137726\tAccuracy: 0.7099998593330383\n",
      "Epoch 17, CIFAR-10 Batch 3:  Cost fn : 0.1557091325521469\tAccuracy: 0.7003998756408691\n",
      "Epoch 17, CIFAR-10 Batch 4:  Cost fn : 0.18800099194049835\tAccuracy: 0.714999794960022\n",
      "Epoch 17, CIFAR-10 Batch 5:  Cost fn : 0.15385492146015167\tAccuracy: 0.7119998335838318\n",
      "Epoch 18, CIFAR-10 Batch 1:  Cost fn : 0.23535549640655518\tAccuracy: 0.7047998905181885\n",
      "Epoch 18, CIFAR-10 Batch 2:  Cost fn : 0.2511206865310669\tAccuracy: 0.7121998071670532\n",
      "Epoch 18, CIFAR-10 Batch 3:  Cost fn : 0.14631035923957825\tAccuracy: 0.7011998891830444\n",
      "Epoch 18, CIFAR-10 Batch 4:  Cost fn : 0.20402345061302185\tAccuracy: 0.7003998756408691\n",
      "Epoch 18, CIFAR-10 Batch 5:  Cost fn : 0.1657313108444214\tAccuracy: 0.6919999122619629\n",
      "Epoch 19, CIFAR-10 Batch 1:  Cost fn : 0.2238345891237259\tAccuracy: 0.7071998715400696\n",
      "Epoch 19, CIFAR-10 Batch 2:  Cost fn : 0.2364983707666397\tAccuracy: 0.7031999230384827\n",
      "Epoch 19, CIFAR-10 Batch 3:  Cost fn : 0.14352712035179138\tAccuracy: 0.7091997861862183\n",
      "Epoch 19, CIFAR-10 Batch 4:  Cost fn : 0.16847142577171326\tAccuracy: 0.7133998870849609\n",
      "Epoch 19, CIFAR-10 Batch 5:  Cost fn : 0.1323096752166748\tAccuracy: 0.6903998851776123\n",
      "Epoch 20, CIFAR-10 Batch 1:  Cost fn : 0.27530810236930847\tAccuracy: 0.6963999271392822\n",
      "Epoch 20, CIFAR-10 Batch 2:  Cost fn : 0.21735794842243195\tAccuracy: 0.7015998363494873\n",
      "Epoch 20, CIFAR-10 Batch 3:  Cost fn : 0.10593879222869873\tAccuracy: 0.7021998763084412\n",
      "Epoch 20, CIFAR-10 Batch 4:  Cost fn : 0.1643182933330536\tAccuracy: 0.7099998593330383\n",
      "Epoch 20, CIFAR-10 Batch 5:  Cost fn : 0.11467960476875305\tAccuracy: 0.7023998498916626\n"
     ]
    }
   ],
   "source": [
    "\"\"\"\n",
    "DON'T MODIFY ANYTHING IN THIS CELL\n",
    "\"\"\"\n",
    "save_model_path = './image_classification'\n",
    "\n",
    "print('Training...')\n",
    "with tf.Session() as sess:\n",
    "    # Initializing the variables\n",
    "    sess.run(tf.global_variables_initializer())\n",
    "    \n",
    "    # Training cycle\n",
    "    for epoch in range(epochs):\n",
    "        # Loop over all batches\n",
    "        n_batches = 5\n",
    "        for batch_i in range(1, n_batches + 1):\n",
    "            for batch_features, batch_labels in helper.load_preprocess_training_batch(batch_i, batch_size):\n",
    "                train_neural_network(sess, optimizer, keep_probability, batch_features, batch_labels)\n",
    "            print('Epoch {:>2}, CIFAR-10 Batch {}:  '.format(epoch + 1, batch_i), end='')\n",
    "            print_stats(sess, batch_features, batch_labels, cost, accuracy)\n",
    "            \n",
    "    # Save Model\n",
    "    saver = tf.train.Saver()\n",
    "    save_path = saver.save(sess, save_model_path)"
   ]
  },
  {
   "cell_type": "markdown",
   "metadata": {
    "deletable": true,
    "editable": true
   },
   "source": [
    "# Checkpoint\n",
    "The model has been saved to disk.\n",
    "## Test Model\n",
    "Test your model against the test dataset.  This will be your final accuracy. You should have an accuracy greater than 50%. If you don't, keep tweaking the model architecture and parameters."
   ]
  },
  {
   "cell_type": "code",
   "execution_count": 37,
   "metadata": {
    "collapsed": false,
    "deletable": true,
    "editable": true
   },
   "outputs": [
    {
     "name": "stdout",
     "output_type": "stream",
     "text": [
      "Testing Accuracy: 0.69228515625\n",
      "\n"
     ]
    },
    {
     "data": {
      "image/png": "[encoded data removed]",
      "text/plain": [
       "<matplotlib.figure.Figure at 0x7fa3366d4be0>"
      ]
     },
     "metadata": {
      "image/png": {
       "height": 319,
       "width": 349
      }
     },
     "output_type": "display_data"
    }
   ],
   "source": [
    "\"\"\"\n",
    "DON'T MODIFY ANYTHING IN THIS CELL\n",
    "\"\"\"\n",
    "%matplotlib inline\n",
    "%config InlineBackend.figure_format = 'retina'\n",
    "\n",
    "import tensorflow as tf\n",
    "import pickle\n",
    "import helper\n",
    "import random\n",
    "\n",
    "# Set batch size if not already set\n",
    "try:\n",
    "    if batch_size:\n",
    "        pass\n",
    "except NameError:\n",
    "    batch_size = 64\n",
    "\n",
    "save_model_path = './image_classification'\n",
    "n_samples = 4\n",
    "top_n_predictions = 3\n",
    "\n",
    "def test_model():\n",
    "    \"\"\"\n",
    "    Test the saved model against the test dataset\n",
    "    \"\"\"\n",
    "\n",
    "    test_features, test_labels = pickle.load(open('preprocess_training.p', mode='rb'))\n",
    "    loaded_graph = tf.Graph()\n",
    "\n",
    "    with tf.Session(graph=loaded_graph) as sess:\n",
    "        # Load model\n",
    "        loader = tf.train.import_meta_graph(save_model_path + '.meta')\n",
    "        loader.restore(sess, save_model_path)\n",
    "\n",
    "        # Get Tensors from loaded model\n",
    "        loaded_x = loaded_graph.get_tensor_by_name('x:0')\n",
    "        loaded_y = loaded_graph.get_tensor_by_name('y:0')\n",
    "        loaded_keep_prob = loaded_graph.get_tensor_by_name('keep_prob:0')\n",
    "        loaded_logits = loaded_graph.get_tensor_by_name('logits:0')\n",
    "        loaded_acc = loaded_graph.get_tensor_by_name('accuracy:0')\n",
    "        \n",
    "        # Get accuracy in batches for memory limitations\n",
    "        test_batch_acc_total = 0\n",
    "        test_batch_count = 0\n",
    "        \n",
    "        for train_feature_batch, train_label_batch in helper.batch_features_labels(test_features, test_labels, batch_size):\n",
    "            test_batch_acc_total += sess.run(\n",
    "                loaded_acc,\n",
    "                feed_dict={loaded_x: train_feature_batch, loaded_y: train_label_batch, loaded_keep_prob: 1.0})\n",
    "            test_batch_count += 1\n",
    "\n",
    "        print('Testing Accuracy: {}\\n'.format(test_batch_acc_total/test_batch_count))\n",
    "\n",
    "        # Print Random Samples\n",
    "        random_test_features, random_test_labels = tuple(zip(*random.sample(list(zip(test_features, test_labels)), n_samples)))\n",
    "        random_test_predictions = sess.run(\n",
    "            tf.nn.top_k(tf.nn.softmax(loaded_logits), top_n_predictions),\n",
    "            feed_dict={loaded_x: random_test_features, loaded_y: random_test_labels, loaded_keep_prob: 1.0})\n",
    "        helper.display_image_predictions(random_test_features, random_test_labels, random_test_predictions)\n",
    "\n",
    "\n",
    "test_model()"
   ]
  },
  {
   "cell_type": "markdown",
   "metadata": {
    "deletable": true,
    "editable": true
   },
   "source": [
    "## Why 50-70% Accuracy?\n",
    "You might be wondering why you can't get an accuracy any higher. First things first, 50% isn't bad for a simple CNN.  Pure guessing would get you 10% accuracy. However, you might notice people are getting scores [well above 70%](http://rodrigob.github.io/are_we_there_yet/build/classification_datasets_results.html#43494641522d3130).  That's because we haven't taught you all there is to know about neural networks. We still need to cover a few more techniques.\n",
    "## Submitting This Project\n",
    "When submitting this project, make sure to run all the cells before saving the notebook.  Save the notebook file as \"dlnd_image_classification.ipynb\" and save it as a HTML file under \"File\" -> \"Download as\".  Include the \"helper.py\" and \"problem_unittests.py\" files in your submission."
   ]
  }
 ],
 "metadata": {
  "kernelspec": {
   "display_name": "Python 3",
   "language": "python",
   "name": "python3"
  },
  "language_info": {
   "codemirror_mode": {
    "name": "ipython",
    "version": 3
   },
   "file_extension": ".py",
   "mimetype": "text/x-python",
   "name": "python",
   "nbconvert_exporter": "python",
   "pygments_lexer": "ipython3",
   "version": "3.5.2"
  },
  "widgets": {
   "state": {},
   "version": "1.1.2"
  }
 },
 "nbformat": 4,
 "nbformat_minor": 0
}
